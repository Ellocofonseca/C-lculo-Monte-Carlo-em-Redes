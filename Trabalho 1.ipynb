{
 "cells": [
  {
   "cell_type": "markdown",
   "metadata": {},
   "source": [
    "# Cálculo de Redes pelo Método Monte Carlo"
   ]
  },
  {
   "cell_type": "code",
   "execution_count": 8,
   "metadata": {},
   "outputs": [],
   "source": [
    "import numpy as np\n",
    "import matplotlib.pyplot as plt\n",
    "import time as time\n",
    "import plotly.graph_objects as go\n",
    "\n",
    "# Função para criar uma rede hidraulica com forma de grade quadrada\n",
    "def GeraRede(nx,ny,CH,CV):\n",
    "    nv = nx*ny\n",
    "    nc = (nx-1)*ny + (ny-1)*nx\n",
    "    \n",
    "    coord = np.zeros(shape=(nv,2))\n",
    "\n",
    "    for i in range(nx):\n",
    "      for j in range(ny):\n",
    "        ig = i + j*nx\n",
    "        coord[ig,0] = i\n",
    "        coord[ig,1] = j\n",
    "\n",
    "    conec = np.zeros(shape=(nc,2), dtype=int)\n",
    "    C = np.zeros(nc)\n",
    "    \n",
    "    # Loop sobre canos horizontais\n",
    "    for j in range(ny):\n",
    "        for i in range(nx-1):\n",
    "          k = j*(nx-1) + i\n",
    "          conec[k,0] = j*nx + i\n",
    "          conec[k,1] = j*nx + i+1\n",
    "          C[k] = CH\n",
    "\n",
    "    # Loop sobre canos verticais\n",
    "    for i in range(nx):\n",
    "      for j in range(ny-1):\n",
    "          k = (nx-1)*ny + j*nx + i\n",
    "          conec[k,0] = i + j*nx\n",
    "          conec[k,1] = i + (j+1)*nx\n",
    "          C[k] = CV\n",
    "\n",
    "    return nv, nc, conec, C, coord"
   ]
  },
  {
   "cell_type": "code",
   "execution_count": 2,
   "metadata": {},
   "outputs": [],
   "source": [
    "def Assembly(conec, C,nc,nv):\n",
    "    \n",
    "    #cria a matriz base do sistema\n",
    "    A = np.zeros(shape=(nv,nv))\n",
    "\n",
    "    for k in range(nc):\n",
    "        i1=(conec[k][0])\n",
    "        i2=(conec[k][1])\n",
    "        \n",
    "        A[i1][i1] += C[k]\n",
    "        A[i2][i2] += C[k]\n",
    "        \n",
    "        A[i2][i1] = -C[k]\n",
    "        A[i1][i2] = -C[k]\n",
    "        \n",
    "    return A\n",
    "\n",
    "def SolveNetwork(conec,C, natm, nB, QB,nc,nv):\n",
    "    \n",
    "    Atilde=Assembly(conec,C,nc,nv)\n",
    "\n",
    "    for k in range(nv):\n",
    "        if k==natm :\n",
    "            Atilde[natm][natm] = 1\n",
    "        else:\n",
    "            Atilde[natm][k]=0\n",
    "\n",
    "    b = np.zeros(shape=(nv,1))\n",
    "    b[nB]=QB\n",
    "    \n",
    "    pressure = np.linalg.solve(Atilde, b)\n",
    "    return pressure\n",
    "\n",
    "def SolveQ (conec,C,P,nc,nv):\n",
    "    \n",
    "    K=np.zeros(shape=(nc,nc))\n",
    "    for j in range(nc):\n",
    "        K[j][j]=C[j]    \n",
    "    \n",
    "    D=np.zeros(shape=(nc,nv))\n",
    "    for k in range(nc):\n",
    "        for j in range(nv):\n",
    "            if j==conec[k][0]-1:\n",
    "                D[k][j]=1\n",
    "            elif j==conec[k][1]-1:\n",
    "                D[k][j]=-1\n",
    "    \n",
    "    return ((K@D)@P)"
   ]
  },
  {
   "cell_type": "code",
   "execution_count": 3,
   "metadata": {},
   "outputs": [],
   "source": [
    "\n",
    "def GeraRedeObstruida(m, n , CH, CV, QB, nB, Po,Reduction):\n",
    "    \n",
    "    nv, nc, conec, C, coord = GeraRede(m, n , CH, CV) #gera a rede que vai ser obstruida\n",
    "    natm=nv-1\n",
    "\n",
    "    OldPressure=SolveNetwork(conec,C,natm,nB,QB,nc,nv)\n",
    "\n",
    "    NC=C\n",
    "\n",
    "    for i in range(nc): #loop para alteração das condutancias dos canos\n",
    "\n",
    "        prob=np.random.rand()\n",
    "        \n",
    "        if prob<=Po: #caso ocorra obstrucao\n",
    "            NC[i] = NC[i]*(1-Reduction) #redução da condutancia do cano selecionado\n",
    "\n",
    "    NewPressure = SolveNetwork(conec,NC,natm,nB,QB,nc,nv)\n",
    "    \n",
    "    return NewPressure"
   ]
  },
  {
   "cell_type": "code",
   "execution_count": 4,
   "metadata": {},
   "outputs": [],
   "source": [
    "def MonteCarlo(Prob,Testes):\n",
    "    Probab=[]\n",
    "\n",
    "    CH = 1.3 #condutancia horizontal\n",
    "    CV = 3.6 #condutancia vertical\n",
    "    m, n = 10, 12 #tamanho da rede\n",
    "    nB=0\n",
    "    QB=3\n",
    "\n",
    "    Reduction=0.935 #porcentagem de redução da condutância do cano caso obstruido\n",
    "    nv, nc, conec, C, coord = GeraRede(m, n , CH, CV)\n",
    "\n",
    "    flag=0\n",
    "    for j in range(Testes):\n",
    "        NP = GeraRedeObstruida(m, n , CH, CV,QB,nB, Prob, Reduction)\n",
    "        if np.max(NP)>=12:\n",
    "            flag+=1\n",
    "        Probab.append((flag/(j+1))*100)\n",
    "\n",
    "    return Probab\n"
   ]
  },
  {
   "cell_type": "code",
   "execution_count": 6,
   "metadata": {},
   "outputs": [],
   "source": [
    "Testes=10000\n",
    "Nrep=[]\n",
    "\n",
    "for i in range(Testes):\n",
    "    Nrep.append(i+1)\n",
    "\n",
    "Probab0 = MonteCarlo(0.03,Testes)\n",
    "Probab1 = MonteCarlo(0.05,Testes)\n",
    "Probab2 = MonteCarlo(0.10,Testes)\n",
    "Probab3 = MonteCarlo(0.15,Testes)\n",
    "Probab4 = MonteCarlo(0.20,Testes)\n",
    "Probab5 = MonteCarlo(0.25,Testes)\n",
    "Probab6 = MonteCarlo(0.30,Testes)\n",
    "Probab7 = MonteCarlo(0.35,Testes)\n",
    "Probab8 = MonteCarlo(0.40,Testes)\n",
    "Probab9 = MonteCarlo(0.45,Testes)\n",
    "Probab10= MonteCarlo(0.47,Testes)\n",
    "Probab11= MonteCarlo(0.50,Testes)\n",
    "Po=[0.03,0.05,0.10,0.15,0.20,0.25,0.30,0.35,0.40,0.45,0.47,0.50]\n",
    "\n",
    "#Célula demora em média 3-4min para ser totalmente executada\n"
   ]
  },
  {
   "cell_type": "code",
   "execution_count": 26,
   "metadata": {},
   "outputs": [
    {
     "data": {
      "text/plain": [
       "<matplotlib.legend.Legend at 0x2a4e30bcc10>"
      ]
     },
     "execution_count": 26,
     "metadata": {},
     "output_type": "execute_result"
    },
    {
     "data": {
      "image/png": "[encoded data removed]",
      "text/plain": [
       "<Figure size 1600x800 with 4 Axes>"
      ]
     },
     "metadata": {},
     "output_type": "display_data"
    }
   ],
   "source": [
    "figure, graphs = plt.subplots(2, 2, figsize=(16, 8))\n",
    "\n",
    "graphs[0,0].plot(Nrep,Probab2)\n",
    "graphs[0,0].plot(Nrep,Probab1)\n",
    "graphs[0,0].plot(Nrep,Probab0)\n",
    "graphs[0,0].legend(['Po=0.10','Po=0.05','Po=0.03'])\n",
    "\n",
    "graphs[0,1].plot(Nrep,Probab5)\n",
    "graphs[0,1].plot(Nrep,Probab4)\n",
    "graphs[0,1].plot(Nrep,Probab3)\n",
    "graphs[0,1].legend(['Po=0.25','Po=0.20','Po=0.15'])\n",
    "\n",
    "graphs[1,0].plot(Nrep,Probab8)\n",
    "graphs[1,0].plot(Nrep,Probab7)\n",
    "graphs[1,0].plot(Nrep,Probab6)\n",
    "graphs[1,0].legend(['Po=0.40','Po=0.35','Po=0.30'])\n",
    "\n",
    "\n",
    "graphs[1,1].set_ylim(75,101.5)\n",
    "graphs[1,1].plot(Nrep,Probab11)\n",
    "graphs[1,1].plot(Nrep,Probab10)\n",
    "graphs[1,1].plot(Nrep,Probab9)\n",
    "graphs[1,1].legend(['Po=0.50','Po=0.47','Po=0.45'])"
   ]
  },
  {
   "cell_type": "code",
   "execution_count": 32,
   "metadata": {},
   "outputs": [
    {
     "data": {
      "application/vnd.plotly.v1+json": {
       "config": {
        "plotlyServerURL": "https://plot.ly"
       },
       "data": [
        {
         "cells": {
          "align": "left",
          "fill": {
           "color": "lightcyan"
          },
          "line": {
           "color": "darkslategray"
          },
          "values": [
           [
            0.03,
            0.05,
            0.1,
            0.15,
            0.2,
            0.25,
            0.3,
            0.35,
            0.4,
            0.45,
            0.47,
            0.5
           ],
           [
            0.12382624152017943,
            0.430863548941752,
            2.058555984028847,
            5.68441142681352,
            10.818394685340213,
            16.609469871385684,
            29.226212651020347,
            44.80941078941346,
            65.90279566863917,
            86.23768501391372,
            90.52802468152461,
            96.77954957235451
           ]
          ]
         },
         "header": {
          "fill": {
           "color": "lightskyblue"
          },
          "line": {
           "color": "darkslategray"
          },
          "values": [
           "Po (chance de obstruir)",
           "Probabilidade de P>=12 (%)"
          ]
         },
         "type": "table"
        }
       ],
       "layout": {
        "height": 453,
        "template": {
         "data": {
          "bar": [
           {
            "error_x": {
             "color": "#2a3f5f"
            },
            "error_y": {
             "color": "#2a3f5f"
            },
            "marker": {
             "line": {
              "color": "#E5ECF6",
              "width": 0.5
             },
             "pattern": {
              "fillmode": "overlay",
              "size": 10,
              "solidity": 0.2
             }
            },
            "type": "bar"
           }
          ],
          "barpolar": [
           {
            "marker": {
             "line": {
              "color": "#E5ECF6",
              "width": 0.5
             },
             "pattern": {
              "fillmode": "overlay",
              "size": 10,
              "solidity": 0.2
             }
            },
            "type": "barpolar"
           }
          ],
          "carpet": [
           {
            "aaxis": {
             "endlinecolor": "#2a3f5f",
             "gridcolor": "white",
             "linecolor": "white",
             "minorgridcolor": "white",
             "startlinecolor": "#2a3f5f"
            },
            "baxis": {
             "endlinecolor": "#2a3f5f",
             "gridcolor": "white",
             "linecolor": "white",
             "minorgridcolor": "white",
             "startlinecolor": "#2a3f5f"
            },
            "type": "carpet"
           }
          ],
          "choropleth": [
           {
            "colorbar": {
             "outlinewidth": 0,
             "ticks": ""
            },
            "type": "choropleth"
           }
          ],
          "contour": [
           {
            "colorbar": {
             "outlinewidth": 0,
             "ticks": ""
            },
            "colorscale": [
             [
              0,
              "#0d0887"
             ],
             [
              0.1111111111111111,
              "#46039f"
             ],
             [
              0.2222222222222222,
              "#7201a8"
             ],
             [
              0.3333333333333333,
              "#9c179e"
             ],
             [
              0.4444444444444444,
              "#bd3786"
             ],
             [
              0.5555555555555556,
              "#d8576b"
             ],
             [
              0.6666666666666666,
              "#ed7953"
             ],
             [
              0.7777777777777778,
              "#fb9f3a"
             ],
             [
              0.8888888888888888,
              "#fdca26"
             ],
             [
              1,
              "#f0f921"
             ]
            ],
            "type": "contour"
           }
          ],
          "contourcarpet": [
           {
            "colorbar": {
             "outlinewidth": 0,
             "ticks": ""
            },
            "type": "contourcarpet"
           }
          ],
          "heatmap": [
           {
            "colorbar": {
             "outlinewidth": 0,
             "ticks": ""
            },
            "colorscale": [
             [
              0,
              "#0d0887"
             ],
             [
              0.1111111111111111,
              "#46039f"
             ],
             [
              0.2222222222222222,
              "#7201a8"
             ],
             [
              0.3333333333333333,
              "#9c179e"
             ],
             [
              0.4444444444444444,
              "#bd3786"
             ],
             [
              0.5555555555555556,
              "#d8576b"
             ],
             [
              0.6666666666666666,
              "#ed7953"
             ],
             [
              0.7777777777777778,
              "#fb9f3a"
             ],
             [
              0.8888888888888888,
              "#fdca26"
             ],
             [
              1,
              "#f0f921"
             ]
            ],
            "type": "heatmap"
           }
          ],
          "heatmapgl": [
           {
            "colorbar": {
             "outlinewidth": 0,
             "ticks": ""
            },
            "colorscale": [
             [
              0,
              "#0d0887"
             ],
             [
              0.1111111111111111,
              "#46039f"
             ],
             [
              0.2222222222222222,
              "#7201a8"
             ],
             [
              0.3333333333333333,
              "#9c179e"
             ],
             [
              0.4444444444444444,
              "#bd3786"
             ],
             [
              0.5555555555555556,
              "#d8576b"
             ],
             [
              0.6666666666666666,
              "#ed7953"
             ],
             [
              0.7777777777777778,
              "#fb9f3a"
             ],
             [
              0.8888888888888888,
              "#fdca26"
             ],
             [
              1,
              "#f0f921"
             ]
            ],
            "type": "heatmapgl"
           }
          ],
          "histogram": [
           {
            "marker": {
             "pattern": {
              "fillmode": "overlay",
              "size": 10,
              "solidity": 0.2
             }
            },
            "type": "histogram"
           }
          ],
          "histogram2d": [
           {
            "colorbar": {
             "outlinewidth": 0,
             "ticks": ""
            },
            "colorscale": [
             [
              0,
              "#0d0887"
             ],
             [
              0.1111111111111111,
              "#46039f"
             ],
             [
              0.2222222222222222,
              "#7201a8"
             ],
             [
              0.3333333333333333,
              "#9c179e"
             ],
             [
              0.4444444444444444,
              "#bd3786"
             ],
             [
              0.5555555555555556,
              "#d8576b"
             ],
             [
              0.6666666666666666,
              "#ed7953"
             ],
             [
              0.7777777777777778,
              "#fb9f3a"
             ],
             [
              0.8888888888888888,
              "#fdca26"
             ],
             [
              1,
              "#f0f921"
             ]
            ],
            "type": "histogram2d"
           }
          ],
          "histogram2dcontour": [
           {
            "colorbar": {
             "outlinewidth": 0,
             "ticks": ""
            },
            "colorscale": [
             [
              0,
              "#0d0887"
             ],
             [
              0.1111111111111111,
              "#46039f"
             ],
             [
              0.2222222222222222,
              "#7201a8"
             ],
             [
              0.3333333333333333,
              "#9c179e"
             ],
             [
              0.4444444444444444,
              "#bd3786"
             ],
             [
              0.5555555555555556,
              "#d8576b"
             ],
             [
              0.6666666666666666,
              "#ed7953"
             ],
             [
              0.7777777777777778,
              "#fb9f3a"
             ],
             [
              0.8888888888888888,
              "#fdca26"
             ],
             [
              1,
              "#f0f921"
             ]
            ],
            "type": "histogram2dcontour"
           }
          ],
          "mesh3d": [
           {
            "colorbar": {
             "outlinewidth": 0,
             "ticks": ""
            },
            "type": "mesh3d"
           }
          ],
          "parcoords": [
           {
            "line": {
             "colorbar": {
              "outlinewidth": 0,
              "ticks": ""
             }
            },
            "type": "parcoords"
           }
          ],
          "pie": [
           {
            "automargin": true,
            "type": "pie"
           }
          ],
          "scatter": [
           {
            "fillpattern": {
             "fillmode": "overlay",
             "size": 10,
             "solidity": 0.2
            },
            "type": "scatter"
           }
          ],
          "scatter3d": [
           {
            "line": {
             "colorbar": {
              "outlinewidth": 0,
              "ticks": ""
             }
            },
            "marker": {
             "colorbar": {
              "outlinewidth": 0,
              "ticks": ""
             }
            },
            "type": "scatter3d"
           }
          ],
          "scattercarpet": [
           {
            "marker": {
             "colorbar": {
              "outlinewidth": 0,
              "ticks": ""
             }
            },
            "type": "scattercarpet"
           }
          ],
          "scattergeo": [
           {
            "marker": {
             "colorbar": {
              "outlinewidth": 0,
              "ticks": ""
             }
            },
            "type": "scattergeo"
           }
          ],
          "scattergl": [
           {
            "marker": {
             "colorbar": {
              "outlinewidth": 0,
              "ticks": ""
             }
            },
            "type": "scattergl"
           }
          ],
          "scattermapbox": [
           {
            "marker": {
             "colorbar": {
              "outlinewidth": 0,
              "ticks": ""
             }
            },
            "type": "scattermapbox"
           }
          ],
          "scatterpolar": [
           {
            "marker": {
             "colorbar": {
              "outlinewidth": 0,
              "ticks": ""
             }
            },
            "type": "scatterpolar"
           }
          ],
          "scatterpolargl": [
           {
            "marker": {
             "colorbar": {
              "outlinewidth": 0,
              "ticks": ""
             }
            },
            "type": "scatterpolargl"
           }
          ],
          "scatterternary": [
           {
            "marker": {
             "colorbar": {
              "outlinewidth": 0,
              "ticks": ""
             }
            },
            "type": "scatterternary"
           }
          ],
          "surface": [
           {
            "colorbar": {
             "outlinewidth": 0,
             "ticks": ""
            },
            "colorscale": [
             [
              0,
              "#0d0887"
             ],
             [
              0.1111111111111111,
              "#46039f"
             ],
             [
              0.2222222222222222,
              "#7201a8"
             ],
             [
              0.3333333333333333,
              "#9c179e"
             ],
             [
              0.4444444444444444,
              "#bd3786"
             ],
             [
              0.5555555555555556,
              "#d8576b"
             ],
             [
              0.6666666666666666,
              "#ed7953"
             ],
             [
              0.7777777777777778,
              "#fb9f3a"
             ],
             [
              0.8888888888888888,
              "#fdca26"
             ],
             [
              1,
              "#f0f921"
             ]
            ],
            "type": "surface"
           }
          ],
          "table": [
           {
            "cells": {
             "fill": {
              "color": "#EBF0F8"
             },
             "line": {
              "color": "white"
             }
            },
            "header": {
             "fill": {
              "color": "#C8D4E3"
             },
             "line": {
              "color": "white"
             }
            },
            "type": "table"
           }
          ]
         },
         "layout": {
          "annotationdefaults": {
           "arrowcolor": "#2a3f5f",
           "arrowhead": 0,
           "arrowwidth": 1
          },
          "autotypenumbers": "strict",
          "coloraxis": {
           "colorbar": {
            "outlinewidth": 0,
            "ticks": ""
           }
          },
          "colorscale": {
           "diverging": [
            [
             0,
             "#8e0152"
            ],
            [
             0.1,
             "#c51b7d"
            ],
            [
             0.2,
             "#de77ae"
            ],
            [
             0.3,
             "#f1b6da"
            ],
            [
             0.4,
             "#fde0ef"
            ],
            [
             0.5,
             "#f7f7f7"
            ],
            [
             0.6,
             "#e6f5d0"
            ],
            [
             0.7,
             "#b8e186"
            ],
            [
             0.8,
             "#7fbc41"
            ],
            [
             0.9,
             "#4d9221"
            ],
            [
             1,
             "#276419"
            ]
           ],
           "sequential": [
            [
             0,
             "#0d0887"
            ],
            [
             0.1111111111111111,
             "#46039f"
            ],
            [
             0.2222222222222222,
             "#7201a8"
            ],
            [
             0.3333333333333333,
             "#9c179e"
            ],
            [
             0.4444444444444444,
             "#bd3786"
            ],
            [
             0.5555555555555556,
             "#d8576b"
            ],
            [
             0.6666666666666666,
             "#ed7953"
            ],
            [
             0.7777777777777778,
             "#fb9f3a"
            ],
            [
             0.8888888888888888,
             "#fdca26"
            ],
            [
             1,
             "#f0f921"
            ]
           ],
           "sequentialminus": [
            [
             0,
             "#0d0887"
            ],
            [
             0.1111111111111111,
             "#46039f"
            ],
            [
             0.2222222222222222,
             "#7201a8"
            ],
            [
             0.3333333333333333,
             "#9c179e"
            ],
            [
             0.4444444444444444,
             "#bd3786"
            ],
            [
             0.5555555555555556,
             "#d8576b"
            ],
            [
             0.6666666666666666,
             "#ed7953"
            ],
            [
             0.7777777777777778,
             "#fb9f3a"
            ],
            [
             0.8888888888888888,
             "#fdca26"
            ],
            [
             1,
             "#f0f921"
            ]
           ]
          },
          "colorway": [
           "#636efa",
           "#EF553B",
           "#00cc96",
           "#ab63fa",
           "#FFA15A",
           "#19d3f3",
           "#FF6692",
           "#B6E880",
           "#FF97FF",
           "#FECB52"
          ],
          "font": {
           "color": "#2a3f5f"
          },
          "geo": {
           "bgcolor": "white",
           "lakecolor": "white",
           "landcolor": "#E5ECF6",
           "showlakes": true,
           "showland": true,
           "subunitcolor": "white"
          },
          "hoverlabel": {
           "align": "left"
          },
          "hovermode": "closest",
          "mapbox": {
           "style": "light"
          },
          "paper_bgcolor": "white",
          "plot_bgcolor": "#E5ECF6",
          "polar": {
           "angularaxis": {
            "gridcolor": "white",
            "linecolor": "white",
            "ticks": ""
           },
           "bgcolor": "#E5ECF6",
           "radialaxis": {
            "gridcolor": "white",
            "linecolor": "white",
            "ticks": ""
           }
          },
          "scene": {
           "xaxis": {
            "backgroundcolor": "#E5ECF6",
            "gridcolor": "white",
            "gridwidth": 2,
            "linecolor": "white",
            "showbackground": true,
            "ticks": "",
            "zerolinecolor": "white"
           },
           "yaxis": {
            "backgroundcolor": "#E5ECF6",
            "gridcolor": "white",
            "gridwidth": 2,
            "linecolor": "white",
            "showbackground": true,
            "ticks": "",
            "zerolinecolor": "white"
           },
           "zaxis": {
            "backgroundcolor": "#E5ECF6",
            "gridcolor": "white",
            "gridwidth": 2,
            "linecolor": "white",
            "showbackground": true,
            "ticks": "",
            "zerolinecolor": "white"
           }
          },
          "shapedefaults": {
           "line": {
            "color": "#2a3f5f"
           }
          },
          "ternary": {
           "aaxis": {
            "gridcolor": "white",
            "linecolor": "white",
            "ticks": ""
           },
           "baxis": {
            "gridcolor": "white",
            "linecolor": "white",
            "ticks": ""
           },
           "bgcolor": "#E5ECF6",
           "caxis": {
            "gridcolor": "white",
            "linecolor": "white",
            "ticks": ""
           }
          },
          "title": {
           "x": 0.05
          },
          "xaxis": {
           "automargin": true,
           "gridcolor": "white",
           "linecolor": "white",
           "ticks": "",
           "title": {
            "standoff": 15
           },
           "zerolinecolor": "white",
           "zerolinewidth": 2
          },
          "yaxis": {
           "automargin": true,
           "gridcolor": "white",
           "linecolor": "white",
           "ticks": "",
           "title": {
            "standoff": 15
           },
           "zerolinecolor": "white",
           "zerolinewidth": 2
          }
         }
        },
        "width": 550
       }
      }
     },
     "metadata": {},
     "output_type": "display_data"
    },
    {
     "data": {
      "text/plain": [
       "[<matplotlib.lines.Line2D at 0x272e0b6e090>]"
      ]
     },
     "execution_count": 32,
     "metadata": {},
     "output_type": "execute_result"
    },
    {
     "data": {
      "image/png": "[encoded data removed]",
      "text/plain": [
       "<Figure size 640x480 with 1 Axes>"
      ]
     },
     "metadata": {},
     "output_type": "display_data"
    }
   ],
   "source": [
    "HighPressure=[np.average(Probab0),np.average(Probab1),np.average(Probab2),np.average(Probab3),np.average(Probab4),np.average(Probab5),\n",
    "              np.average(Probab6),np.average(Probab7),np.average(Probab8),np.average(Probab9),np.average(Probab10),np.average(Probab11)]\n",
    "\n",
    "\n",
    "fig = go.Figure(data=[go.Table(\n",
    "    header=dict(values=['Po (chance de obstruir)', 'Probabilidade de P>=12 (%)'],\n",
    "                line_color='darkslategray',\n",
    "                fill_color='lightskyblue'),\n",
    "    cells=dict(values=[Po,              # 1st column\n",
    "                       HighPressure],   # 2nd column\n",
    "               line_color='darkslategray',\n",
    "               fill_color='lightcyan',\n",
    "               align='left'))\n",
    "])\n",
    "\n",
    "fig.update_layout(width=550,height=453)\n",
    "fig.show()\n",
    "\n",
    "\n",
    "plt.plot(Po,HighPressure)"
   ]
  }
 ],
 "metadata": {
  "kernelspec": {
   "display_name": "base",
   "language": "python",
   "name": "python3"
  },
  "language_info": {
   "codemirror_mode": {
    "name": "ipython",
    "version": 3
   },
   "file_extension": ".py",
   "mimetype": "text/x-python",
   "name": "python",
   "nbconvert_exporter": "python",
   "pygments_lexer": "ipython3",
   "version": "3.11.5"
  }
 },
 "nbformat": 4,
 "nbformat_minor": 2
}
